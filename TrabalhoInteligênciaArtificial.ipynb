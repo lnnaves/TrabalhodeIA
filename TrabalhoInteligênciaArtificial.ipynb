{
  "nbformat": 4,
  "nbformat_minor": 0,
  "metadata": {
    "colab": {
      "name": "TrabalhoInteligênciaArtificial",
      "provenance": [],
      "collapsed_sections": [],
      "toc_visible": true,
      "authorship_tag": "ABX9TyPmeaCZNdAA+pWLSgFfukmt",
      "include_colab_link": true
    },
    "kernelspec": {
      "name": "python3",
      "display_name": "Python 3"
    },
    "language_info": {
      "name": "python"
    }
  },
  "cells": [
    {
      "cell_type": "markdown",
      "metadata": {
        "id": "view-in-github",
        "colab_type": "text"
      },
      "source": [
        "<a href=\"https://colab.research.google.com/github/lnnaves/TrabalhodeIA/blob/main/TrabalhoIntelig%C3%AAnciaArtificial.ipynb\" target=\"_parent\"><img src=\"https://colab.research.google.com/assets/colab-badge.svg\" alt=\"Open In Colab\"/></a>"
      ]
    },
    {
      "cell_type": "markdown",
      "source": [
        "<h1> Busca em Largura Simples"
      ],
      "metadata": {
        "id": "K3sZdV0IjdJ_"
      }
    },
    {
      "cell_type": "code",
      "source": [
        "from graphviz import Graph\n",
        "#biblioteca para importar gráfico"
      ],
      "metadata": {
        "id": "YN9svfurjXfM"
      },
      "execution_count": null,
      "outputs": []
    },
    {
      "cell_type": "code",
      "source": [
        "class Vertice: #nó do grafo no processo de busca\n",
        "  def __init__(self,rotulo):\n",
        "    self.rotulo = rotulo\n",
        "    #função construtora\n",
        "  def __eq__(self,outro):\n",
        "      return outro.rotulo == self.rotulo\n",
        "    #sobrecarga de operadores (comparar um vertice com o outro)\n",
        "  def __repr__(self):\n",
        "      return self.rotulo\n",
        "    #criar mecanismo de representação do vertice\n",
        "  def __hash__(self):\n",
        "      return hash(self.rotulo)\n",
        "    #criar um numero inteiro para associar com a string"
      ],
      "metadata": {
        "id": "2q4vskJ-jyDv"
      },
      "execution_count": null,
      "outputs": []
    },
    {
      "cell_type": "code",
      "source": [
        "class Mapa: \n",
        "  def __init__(self):\n",
        "      self.listaAdjacencias = dict()\n",
        "      self.listaVertices = set() #nao admite repetições \n",
        "      #funcao construtora para criar uma lista de adjacencias e de vertices para cada vertices\n",
        "  def adicionaVertice(self,rotulo):\n",
        "      self.listaVertices.add(Vertice(rotulo))\n",
        "      #para adicionar determinado vertice com determinado rotulo no grafo\n",
        "  def localizaRotulo(self,rotulo):\n",
        "      for i in self.listaVertices:\n",
        "          if i.rotulo == rotulo:\n",
        "              return i\n",
        "      return -1\n",
        "     #vai pesquisar em todos os vertices onde tem um vertice especifico e retorna a posição dele, caso nao encontra retorna '-1'\n",
        "  def adicionaArco(self,r1,r2):\n",
        "      if not self.listaAdjacencias.get(r1):\n",
        "          self.listaAdjacencias[r1] = [r2]\n",
        "      else:\n",
        "          self.listaAdjacencias[r1].append(r2)\n",
        "\n",
        "      if not self.listaAdjacencias.get(r2):\n",
        "          self.listaAdjacencias[r2] = [r1]\n",
        "      else: \n",
        "          self.listaAdjacencias[r2].append(r1)\n",
        "     #conecta um vertice a outro\n",
        "  def __repr__(self):\n",
        "      return str(self.listaAdjacencias)\n",
        "     #transforma o grafo em string\n",
        "  def desenhaGrafo(self):\n",
        "      g = Graph(comment = 'São Paulo Metropolitana',strict=True)\n",
        "      for i in self.listaVertices:\n",
        "          g.node(i.rotulo,i.rotulo,fontsize=\"10\")\n",
        "      for k,v in self.listaAdjacencias.items():\n",
        "          for j in v:\n",
        "              g.edge(k,j,dir=\"none\") \n",
        "      return g "
      ],
      "metadata": {
        "id": "hoFdJVZ2kgIn"
      },
      "execution_count": null,
      "outputs": []
    },
    {
      "cell_type": "markdown",
      "source": [
        "<h3> Construindo e plotando o Grafo"
      ],
      "metadata": {
        "id": "FOvLOIwwmwfE"
      }
    },
    {
      "cell_type": "code",
      "source": [
        "mp = Mapa() #valores ficticios \n",
        "\n",
        "mp.adicionaVertice('SÃO PAULO')\n",
        "mp.adicionaVertice('DIADEMA')\n",
        "mp.adicionaVertice('GUARULHOS')\n",
        "mp.adicionaVertice('SANTO ANDRÉ')\n",
        "mp.adicionaVertice('SÃO CAETANO DO SUL')\n",
        "mp.adicionaVertice('SÃO BERNARDO DO CAMPO')\n",
        "mp.adicionaVertice('BARUERI')\n",
        "mp.adicionaVertice('OSASCO')\n",
        "mp.adicionaVertice('MAUÁ')\n",
        "mp.adicionaVertice('COTIA')\n",
        "mp.adicionaVertice('GUARULHOS')\n",
        "mp.adicionaVertice('POÁ')\n",
        "\n",
        "mp.adicionaArco('SÃO PAULO','DIADEMA')\n",
        "mp.adicionaArco('SÃO PAULO','GUARULHOS')\n",
        "mp.adicionaArco('SÃO PAULO','SANTO ANDRÉ')\n",
        "mp.adicionaArco('SÃO PAULO','SÃO BERNARDO DO CAMPO')\n",
        "mp.adicionaArco('SÃO PAULO','BARUERI')\n",
        "\n",
        "mp.adicionaArco('DIADEMA','OSASCO')\n",
        "mp.adicionaArco('DIADEMA','MOGI DAS CRUZES')\n",
        "mp.adicionaArco('DIADEMA','MAUÁ')\n",
        "\n",
        "mp.adicionaArco('GUARULHOS','MAUÁ')\n",
        "mp.adicionaArco('GUARULHOS','SANTO ADNRÉ')\n",
        "\n",
        "mp.adicionaArco('SANTO ADNRÉ','SÃO CAETANO DO SUL')\n",
        "\n",
        "mp.adicionaArco('SÃO BERNARDO DO CAMPO','POÁ')\n",
        "mp.adicionaArco('SÃO BERNARDO DO CAMPO','COTIA')\n",
        "\n",
        "mp.adicionaArco('BARUERI','POÁ')\n"
      ],
      "metadata": {
        "id": "sTdF5bPKmz10"
      },
      "execution_count": null,
      "outputs": []
    },
    {
      "cell_type": "code",
      "source": [
        "mp.desenhaGrafo()"
      ],
      "metadata": {
        "colab": {
          "base_uri": "https://localhost:8080/",
          "height": 367
        },
        "id": "wTQhu-mmoqL5",
        "outputId": "9a8a00a3-7e5a-486f-bfab-06dc01f7f9a1"
      },
      "execution_count": null,
      "outputs": [
        {
          "output_type": "execute_result",
          "data": {
            "text/plain": [
              "<graphviz.dot.Graph at 0x7f05c13ad7d0>"
            ],
            "image/svg+xml": "<?xml version=\"1.0\" encoding=\"UTF-8\" standalone=\"no\"?>\n<!DOCTYPE svg PUBLIC \"-//W3C//DTD SVG 1.1//EN\"\n \"http://www.w3.org/Graphics/SVG/1.1/DTD/svg11.dtd\">\n<!-- Generated by graphviz version 2.40.1 (20161225.0304)\n -->\n<!-- Title: %3 Pages: 1 -->\n<svg width=\"736pt\" height=\"260pt\"\n viewBox=\"0.00 0.00 735.52 260.00\" xmlns=\"http://www.w3.org/2000/svg\" xmlns:xlink=\"http://www.w3.org/1999/xlink\">\n<g id=\"graph0\" class=\"graph\" transform=\"scale(1 1) rotate(0) translate(4 256)\">\n<title>%3</title>\n<polygon fill=\"#ffffff\" stroke=\"transparent\" points=\"-4,4 -4,-256 731.5189,-256 731.5189,4 -4,4\"/>\n<!-- DIADEMA -->\n<g id=\"node1\" class=\"node\">\n<title>DIADEMA</title>\n<ellipse fill=\"none\" stroke=\"#000000\" cx=\"189.7878\" cy=\"-162\" rx=\"36.4942\" ry=\"18\"/>\n<text text-anchor=\"middle\" x=\"189.7878\" y=\"-159.5\" font-family=\"Times,serif\" font-size=\"10.00\" fill=\"#000000\">DIADEMA</text>\n</g>\n<!-- OSASCO -->\n<g id=\"node7\" class=\"node\">\n<title>OSASCO</title>\n<ellipse fill=\"none\" stroke=\"#000000\" cx=\"31.7878\" cy=\"-90\" rx=\"31.577\" ry=\"18\"/>\n<text text-anchor=\"middle\" x=\"31.7878\" y=\"-87.5\" font-family=\"Times,serif\" font-size=\"10.00\" fill=\"#000000\">OSASCO</text>\n</g>\n<!-- DIADEMA&#45;&#45;OSASCO -->\n<g id=\"edge6\" class=\"edge\">\n<title>DIADEMA&#45;&#45;OSASCO</title>\n<path fill=\"none\" stroke=\"#000000\" d=\"M162.6266,-149.6228C132.8926,-136.0731 85.6172,-114.5298 56.7736,-101.3859\"/>\n</g>\n<!-- MAUÁ -->\n<g id=\"node11\" class=\"node\">\n<title>MAUÁ</title>\n<ellipse fill=\"none\" stroke=\"#000000\" cx=\"318.7878\" cy=\"-90\" rx=\"27.1572\" ry=\"18\"/>\n<text text-anchor=\"middle\" x=\"318.7878\" y=\"-87.5\" font-family=\"Times,serif\" font-size=\"10.00\" fill=\"#000000\">MAUÁ</text>\n</g>\n<!-- DIADEMA&#45;&#45;MAUÁ -->\n<g id=\"edge8\" class=\"edge\">\n<title>DIADEMA&#45;&#45;MAUÁ</title>\n<path fill=\"none\" stroke=\"#000000\" d=\"M214.0517,-148.4574C238.2826,-134.9331 275.1276,-114.3685 298.0393,-101.5805\"/>\n</g>\n<!-- MOGI DAS CRUZES -->\n<g id=\"node12\" class=\"node\">\n<title>MOGI DAS CRUZES</title>\n<ellipse fill=\"none\" stroke=\"#000000\" cx=\"177.7878\" cy=\"-90\" rx=\"96.3833\" ry=\"18\"/>\n<text text-anchor=\"middle\" x=\"177.7878\" y=\"-86.3\" font-family=\"Times,serif\" font-size=\"14.00\" fill=\"#000000\">MOGI DAS CRUZES</text>\n</g>\n<!-- DIADEMA&#45;&#45;MOGI DAS CRUZES -->\n<g id=\"edge7\" class=\"edge\">\n<title>DIADEMA&#45;&#45;MOGI DAS CRUZES</title>\n<path fill=\"none\" stroke=\"#000000\" d=\"M186.7597,-143.8314C184.9545,-133 182.6691,-119.2876 180.8567,-108.4133\"/>\n</g>\n<!-- SÃO CAETANO DO SUL -->\n<g id=\"node2\" class=\"node\">\n<title>SÃO CAETANO DO SUL</title>\n<ellipse fill=\"none\" stroke=\"#000000\" cx=\"440.7878\" cy=\"-18\" rx=\"70.1018\" ry=\"18\"/>\n<text text-anchor=\"middle\" x=\"440.7878\" y=\"-15.5\" font-family=\"Times,serif\" font-size=\"10.00\" fill=\"#000000\">SÃO CAETANO DO SUL</text>\n</g>\n<!-- COTIA -->\n<g id=\"node3\" class=\"node\">\n<title>COTIA</title>\n<ellipse fill=\"none\" stroke=\"#000000\" cx=\"562.7878\" cy=\"-90\" rx=\"27.1572\" ry=\"18\"/>\n<text text-anchor=\"middle\" x=\"562.7878\" y=\"-87.5\" font-family=\"Times,serif\" font-size=\"10.00\" fill=\"#000000\">COTIA</text>\n</g>\n<!-- POÁ -->\n<g id=\"node4\" class=\"node\">\n<title>POÁ</title>\n<ellipse fill=\"none\" stroke=\"#000000\" cx=\"663.7878\" cy=\"-90\" rx=\"27\" ry=\"18\"/>\n<text text-anchor=\"middle\" x=\"663.7878\" y=\"-87.5\" font-family=\"Times,serif\" font-size=\"10.00\" fill=\"#000000\">POÁ</text>\n</g>\n<!-- SANTO ANDRÉ -->\n<g id=\"node5\" class=\"node\">\n<title>SANTO ANDRÉ</title>\n<ellipse fill=\"none\" stroke=\"#000000\" cx=\"298.7878\" cy=\"-162\" rx=\"48.7185\" ry=\"18\"/>\n<text text-anchor=\"middle\" x=\"298.7878\" y=\"-159.5\" font-family=\"Times,serif\" font-size=\"10.00\" fill=\"#000000\">SANTO ANDRÉ</text>\n</g>\n<!-- SÃO BERNARDO DO CAMPO -->\n<g id=\"node6\" class=\"node\">\n<title>SÃO BERNARDO DO CAMPO</title>\n<ellipse fill=\"none\" stroke=\"#000000\" cx=\"555.7878\" cy=\"-162\" rx=\"84.358\" ry=\"18\"/>\n<text text-anchor=\"middle\" x=\"555.7878\" y=\"-159.5\" font-family=\"Times,serif\" font-size=\"10.00\" fill=\"#000000\">SÃO BERNARDO DO CAMPO</text>\n</g>\n<!-- SÃO BERNARDO DO CAMPO&#45;&#45;COTIA -->\n<g id=\"edge12\" class=\"edge\">\n<title>SÃO BERNARDO DO CAMPO&#45;&#45;COTIA</title>\n<path fill=\"none\" stroke=\"#000000\" d=\"M557.5542,-143.8314C558.6072,-133 559.9404,-119.2876 560.9976,-108.4133\"/>\n</g>\n<!-- SÃO BERNARDO DO CAMPO&#45;&#45;POÁ -->\n<g id=\"edge11\" class=\"edge\">\n<title>SÃO BERNARDO DO CAMPO&#45;&#45;POÁ</title>\n<path fill=\"none\" stroke=\"#000000\" d=\"M581.6565,-144.7542C601.0017,-131.8574 627.0298,-114.5053 644.5564,-102.8209\"/>\n</g>\n<!-- BARUERI -->\n<g id=\"node8\" class=\"node\">\n<title>BARUERI</title>\n<ellipse fill=\"none\" stroke=\"#000000\" cx=\"692.7878\" cy=\"-162\" rx=\"34.9638\" ry=\"18\"/>\n<text text-anchor=\"middle\" x=\"692.7878\" y=\"-159.5\" font-family=\"Times,serif\" font-size=\"10.00\" fill=\"#000000\">BARUERI</text>\n</g>\n<!-- BARUERI&#45;&#45;POÁ -->\n<g id=\"edge13\" class=\"edge\">\n<title>BARUERI&#45;&#45;POÁ</title>\n<path fill=\"none\" stroke=\"#000000\" d=\"M685.6193,-144.2022C681.1241,-133.0419 675.3533,-118.7143 670.8739,-107.593\"/>\n</g>\n<!-- GUARULHOS -->\n<g id=\"node9\" class=\"node\">\n<title>GUARULHOS</title>\n<ellipse fill=\"none\" stroke=\"#000000\" cx=\"409.7878\" cy=\"-162\" rx=\"44.3\" ry=\"18\"/>\n<text text-anchor=\"middle\" x=\"409.7878\" y=\"-159.5\" font-family=\"Times,serif\" font-size=\"10.00\" fill=\"#000000\">GUARULHOS</text>\n</g>\n<!-- GUARULHOS&#45;&#45;MAUÁ -->\n<g id=\"edge9\" class=\"edge\">\n<title>GUARULHOS&#45;&#45;MAUÁ</title>\n<path fill=\"none\" stroke=\"#000000\" d=\"M389.1385,-145.6621C373.197,-133.049 351.3847,-115.7909 336.2931,-103.8504\"/>\n</g>\n<!-- SANTO ADNRÉ -->\n<g id=\"node13\" class=\"node\">\n<title>SANTO ADNRÉ</title>\n<ellipse fill=\"none\" stroke=\"#000000\" cx=\"440.7878\" cy=\"-90\" rx=\"77.1866\" ry=\"18\"/>\n<text text-anchor=\"middle\" x=\"440.7878\" y=\"-86.3\" font-family=\"Times,serif\" font-size=\"14.00\" fill=\"#000000\">SANTO ADNRÉ</text>\n</g>\n<!-- GUARULHOS&#45;&#45;SANTO ADNRÉ -->\n<g id=\"edge10\" class=\"edge\">\n<title>GUARULHOS&#45;&#45;SANTO ADNRÉ</title>\n<path fill=\"none\" stroke=\"#000000\" d=\"M417.4507,-144.2022C422.1842,-133.2085 428.2408,-119.1413 432.9977,-108.0931\"/>\n</g>\n<!-- SÃO PAULO -->\n<g id=\"node10\" class=\"node\">\n<title>SÃO PAULO</title>\n<ellipse fill=\"none\" stroke=\"#000000\" cx=\"409.7878\" cy=\"-234\" rx=\"40.0582\" ry=\"18\"/>\n<text text-anchor=\"middle\" x=\"409.7878\" y=\"-231.5\" font-family=\"Times,serif\" font-size=\"10.00\" fill=\"#000000\">SÃO PAULO</text>\n</g>\n<!-- SÃO PAULO&#45;&#45;DIADEMA -->\n<g id=\"edge1\" class=\"edge\">\n<title>SÃO PAULO&#45;&#45;DIADEMA</title>\n<path fill=\"none\" stroke=\"#000000\" d=\"M376.6612,-223.738C342.5185,-213.0856 287.7938,-195.801 240.7878,-180 233.8457,-177.6664 226.3994,-175.0839 219.4006,-172.6207\"/>\n</g>\n<!-- SÃO PAULO&#45;&#45;SANTO ANDRÉ -->\n<g id=\"edge3\" class=\"edge\">\n<title>SÃO PAULO&#45;&#45;SANTO ANDRÉ</title>\n<path fill=\"none\" stroke=\"#000000\" d=\"M386.7885,-219.0816C368.2462,-207.0541 342.2309,-190.1793 323.2975,-177.8982\"/>\n</g>\n<!-- SÃO PAULO&#45;&#45;SÃO BERNARDO DO CAMPO -->\n<g id=\"edge4\" class=\"edge\">\n<title>SÃO PAULO&#45;&#45;SÃO BERNARDO DO CAMPO</title>\n<path fill=\"none\" stroke=\"#000000\" d=\"M436.9071,-220.6261C460.9869,-208.7511 496.2674,-191.3525 522.1407,-178.5931\"/>\n</g>\n<!-- SÃO PAULO&#45;&#45;BARUERI -->\n<g id=\"edge5\" class=\"edge\">\n<title>SÃO PAULO&#45;&#45;BARUERI</title>\n<path fill=\"none\" stroke=\"#000000\" d=\"M447.5574,-227.4763C495.1034,-218.8074 579.0035,-201.99 648.7878,-180 654.4555,-178.214 660.4156,-176.0088 666.0553,-173.7615\"/>\n</g>\n<!-- SÃO PAULO&#45;&#45;GUARULHOS -->\n<g id=\"edge2\" class=\"edge\">\n<title>SÃO PAULO&#45;&#45;GUARULHOS</title>\n<path fill=\"none\" stroke=\"#000000\" d=\"M409.7878,-215.8314C409.7878,-205 409.7878,-191.2876 409.7878,-180.4133\"/>\n</g>\n<!-- SANTO ADNRÉ&#45;&#45;SÃO CAETANO DO SUL -->\n<g id=\"edge14\" class=\"edge\">\n<title>SANTO ADNRÉ&#45;&#45;SÃO CAETANO DO SUL</title>\n<path fill=\"none\" stroke=\"#000000\" d=\"M440.7878,-71.8314C440.7878,-61 440.7878,-47.2876 440.7878,-36.4133\"/>\n</g>\n</g>\n</svg>\n"
          },
          "metadata": {},
          "execution_count": 5
        }
      ]
    },
    {
      "cell_type": "code",
      "source": [
        "def buscaCidades(grafo,inicio,meta):\n",
        "  border = [[inicio]]\n",
        "  visited = set()\n",
        "  while border:\n",
        "    #pega o primeiro caminho na fila\n",
        "    route = border.pop(0)\n",
        "\n",
        "    v = route[-1]\n",
        "    #pega o ultimo nó no caminho\n",
        "\n",
        "    if v == meta:\n",
        "      return route\n",
        "      #teste de meta\n",
        "      #checar se o nó atual ja foi visitado\n",
        "    elif v not in visited:\n",
        "      for neighbour in grafo.listaAdjacencias.get(v):\n",
        "        newRoute = list(route)\n",
        "        newRoute.append(neighbour)\n",
        "        border.append(newRoute)\n",
        "        #pega nos adjacentes, constroi um caminho e poe na fila\n",
        "\n",
        "        if neighbour == meta: #teste de meta\n",
        "          return newRoute\n",
        "         \n",
        "      visited.add(v)\n",
        "      #coloca o vertice na lista de visitados"
      ],
      "metadata": {
        "id": "gQqftJ0p2wl1"
      },
      "execution_count": null,
      "outputs": []
    },
    {
      "cell_type": "code",
      "source": [
        "print(buscaCidades(mp,'SÃO PAULO', 'SANTO ANDRÉ'))\n",
        "print(buscaCidades(mp,'COTIA','SÃO BERNARDO DO CAMPO'))\n",
        "print(buscaCidades(mp,'MOGI DAS CRUZES','SÃO PAULO'))\n",
        "print(buscaCidades(mp,'SÃO PAULO','SÃO CAETANO DO SUL'))\n",
        "print(buscaCidades(mp, 'SÃO PAULO', 'MAUÁ'))"
      ],
      "metadata": {
        "colab": {
          "base_uri": "https://localhost:8080/"
        },
        "id": "BqJlIINz4eQi",
        "outputId": "3c40005b-ca8d-4099-a071-e4b4bb7c0913"
      },
      "execution_count": null,
      "outputs": [
        {
          "output_type": "stream",
          "name": "stdout",
          "text": [
            "['SÃO PAULO', 'SANTO ANDRÉ']\n",
            "['COTIA', 'SÃO BERNARDO DO CAMPO']\n",
            "['MOGI DAS CRUZES', 'DIADEMA', 'SÃO PAULO']\n",
            "['SÃO PAULO', 'GUARULHOS', 'SANTO ADNRÉ', 'SÃO CAETANO DO SUL']\n",
            "['SÃO PAULO', 'DIADEMA', 'MAUÁ']\n"
          ]
        }
      ]
    }
  ]
}